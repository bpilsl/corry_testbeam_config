{
 "cells": [
  {
   "cell_type": "code",
   "execution_count": null,
   "id": "90cb4329",
   "metadata": {
    "scrolled": true
   },
   "outputs": [],
   "source": [
    "import extract_corry_root\n",
    "import extract_tbsw_root\n",
    "import pandas as pd\n",
    "import matplotlib.pyplot as plt"
   ]
  },
  {
   "cell_type": "code",
   "execution_count": null,
   "id": "c9adcfd6",
   "metadata": {},
   "outputs": [],
   "source": [
    "selected_keys_corry = {\n",
    "\"residualsX\":'RMS',\n",
    "\"residualsX1pix\":'RMS',\n",
    "\"residualsX2pix\":'RMS',\n",
    "\"residualsX3pix\":'RMS',\n",
    "\"residualsY\":'RMS',\n",
    "\"residualsY1pix\":'RMS',\n",
    "\"residualsY2pix\":'RMS',\n",
    "\"residualsY3pix\":'RMS',\n",
    "\"clusterChargeAssociated\":'Mean',\n",
    "\"seedChargeAssociated\":'Mean',\n",
    "\"clusterSizeAssociated\":'Mean',\n",
    "\"clusterWidthRowAssociated\":'Mean',\n",
    "\"clusterWidthColAssociated\":'Mean',\n",
    "#\"AnalysisEfficiency/Monopix2_0/pixelEfficiencyMap_trackPos\":'Efficiency',\n",
    "\"distanceTrackHit2D\":'RMS',\n",
    "\"chipEfficiencyMap_trackPos\":'Efficiency',\n",
    "#\"AnalysisEfficiency/Monopix2_0/eTotalEfficiency\":'single_Efficiency',\n",
    "\"efficiencyColumns\":'Efficiency',\n",
    "\"efficiencyRows\":'Efficiency'\n",
    "}\n",
    "\n",
    "selected_keys_tbsw = {\n",
    "\"hres_u_all\":'RMS',\n",
    "\"hres_v_all\":'RMS',\n",
    "\"hCharge\":'Mean',\n",
    "\"hCCharge\":'Mean',\n",
    "\"hsize\":'Mean',\n",
    "\"h2_efficiencymap\":'Efficiency',\n",
    "}"
   ]
  },
  {
   "cell_type": "code",
   "execution_count": null,
   "id": "17c8cc2c",
   "metadata": {},
   "outputs": [],
   "source": [
    "path_to_analysis = '/run/user/1000/gvfs/sftp:host=10.12.161.231,user=testbeam1/mnt/DiskD/VTX/corry_out'\n",
    "#path_to_analysis = '/home/bgnet/workspace-test/'\n",
    "start_run = 279\n",
    "end_run = 283\n",
    "x_axis = [1,2,3,4,5]\n",
    "x_axis_name = 'PSUB/PWELL [V]'\n",
    "\n"
   ]
  },
  {
   "cell_type": "code",
   "execution_count": null,
   "id": "da430462",
   "metadata": {},
   "outputs": [],
   "source": [
    "df = extract_corry_root.get_object(path_to_analysis,range(start_run,end_run+1,1))\n",
    "#df = extract_tbsw_root.get_object(path_to_analysis,range(start_run,end_run+1,1))\n",
    "#df"
   ]
  },
  {
   "cell_type": "code",
   "execution_count": null,
   "id": "a0f1c3f2",
   "metadata": {
    "scrolled": false
   },
   "outputs": [],
   "source": [
    "for column in df.columns:\n",
    "    ratio_plot, ax_ratio = plt.subplots(figsize=(16, 9))\n",
    "\n",
    "    ax_ratio.plot(x_axis, df[column],\n",
    "                  label=selected_keys_corry[column]+' '+column, c='b', marker='x',\n",
    "                  markersize=10, linestyle=\"-\")\n",
    "\n",
    "    ax_ratio.set_xlabel(x_axis_name, fontsize=25)\n",
    "    ax_ratio.set_ylabel(column, fontsize=25)\n",
    "    #ax_ratio.set_ylim([0, 0.03])\n",
    "\n",
    "    ax_ratio.tick_params(axis='both', which='major', labelsize=22)\n",
    "    ax_ratio.tick_params(axis='both', which='minor', labelsize=20)\n",
    "\n",
    "    ax_ratio.legend(prop={\"size\": 24}, loc='upper right', framealpha=1, markerscale=2, bbox_to_anchor=[1,0.9])\n",
    "    ratio_plot.tight_layout()\n",
    "    #ratio_plot.savefig(plot_path + \"/timeline_testing/{}_{}_{}_compare_module_diamond_no_masking.pdf\".format(key, month, module),bbox_inches=\"tight\")"
   ]
  },
  {
   "cell_type": "code",
   "execution_count": null,
   "id": "7d0e5cda",
   "metadata": {},
   "outputs": [],
   "source": []
  },
  {
   "cell_type": "code",
   "execution_count": null,
   "id": "14412f2d",
   "metadata": {},
   "outputs": [],
   "source": []
  },
  {
   "cell_type": "code",
   "execution_count": null,
   "id": "6ddadec3",
   "metadata": {},
   "outputs": [],
   "source": []
  }
 ],
 "metadata": {
  "kernelspec": {
   "display_name": "Python 3 (ipykernel)",
   "language": "python",
   "name": "python3"
  },
  "language_info": {
   "codemirror_mode": {
    "name": "ipython",
    "version": 3
   },
   "file_extension": ".py",
   "mimetype": "text/x-python",
   "name": "python",
   "nbconvert_exporter": "python",
   "pygments_lexer": "ipython3",
   "version": "3.9.12"
  }
 },
 "nbformat": 4,
 "nbformat_minor": 5
}
